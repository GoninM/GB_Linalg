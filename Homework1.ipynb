{
 "cells": [
  {
   "cell_type": "markdown",
   "id": "1aad6862",
   "metadata": {},
   "source": [
    "<h2>Home work 1</h2>"
   ]
  },
  {
   "cell_type": "code",
   "execution_count": 1,
   "id": "85a169bb",
   "metadata": {},
   "outputs": [],
   "source": [
    "import numpy as np"
   ]
  },
  {
   "cell_type": "markdown",
   "id": "3b60799a",
   "metadata": {},
   "source": [
    "<h4>\n",
    "__1.__ Найдите скалярное произведение векторов $x, y \\in \\mathbb{R}$:<br>\n",
    "а) $x=(0,-3, 6),~y=(-4, 7, 9);$<br>\n",
    "б) $x=(7, -4, 0, 1),~y=(-3, 1, 11, 2).$\n",
    "</h4>\n"
   ]
  },
  {
   "cell_type": "code",
   "execution_count": 6,
   "id": "2d7f4257",
   "metadata": {},
   "outputs": [
    {
     "name": "stdout",
     "output_type": "stream",
     "text": [
      "скалярное произведение векторов [ 0 -3  6] и [-4  7  9]: 33\n"
     ]
    }
   ],
   "source": [
    "x1 = np.array([0,-3,6])\n",
    "y1 = np.array([-4,7,9])\n",
    "\n",
    "z1 = np.dot(x1, y1)\n",
    "print(f'скалярное произведение векторов {x1} и {y1}: {z1}')\n"
   ]
  },
  {
   "cell_type": "code",
   "execution_count": 7,
   "id": "9aa63fe9",
   "metadata": {},
   "outputs": [
    {
     "name": "stdout",
     "output_type": "stream",
     "text": [
      "скалярное произведение векторов [ 7 -4  0  1] и [-3  1 11  2]: -23\n"
     ]
    }
   ],
   "source": [
    "x2 = np.array([7, -4, 0, 1])\n",
    "y2 = np.array([-3, 1, 11, 2])\n",
    "\n",
    "z2 = np.dot(x2, y2)\n",
    "print(f'скалярное произведение векторов {x2} и {y2}: {z2}')"
   ]
  },
  {
   "cell_type": "markdown",
   "id": "355248ee",
   "metadata": {},
   "source": [
    "<h4>\n",
    "__2.__ Найдите нормы векторов $(4, 2, 4)$ и $(12, 3, 4)$ и угол между ними.\n",
    "</h4>\n"
   ]
  },
  {
   "cell_type": "code",
   "execution_count": 23,
   "id": "0da98359",
   "metadata": {},
   "outputs": [
    {
     "name": "stdout",
     "output_type": "stream",
     "text": [
      "Манхэттенская норма вектора [4 2 4]:\t\t10.0\n",
      "\n",
      "Евклидова норма вектора [4 2 4]:\t\t6.0\n",
      "\n",
      "Манхэттенская норма вектора [12  3  4]:\t\t19.0\n",
      "\n",
      "Евклидова норма вектора [12  3  4]:\t\t13.0\n",
      "\n",
      "Косинус угла между векторами = 0.8974358974358975\n",
      "Угол между векторами = 0.45687400353266105\n"
     ]
    }
   ],
   "source": [
    "x = np.array([4,2,4])\n",
    "y = np.array([12,3,4])\n",
    "\n",
    "\n",
    "print(f'Манхэттенская норма вектора {x}:\\t\\t{np.linalg.norm(x, ord=1)}\\n')\n",
    "print(f'Евклидова норма вектора {x}:\\t\\t{np.linalg.norm(x, ord=2)}\\n')\n",
    "\n",
    "print(f'Манхэттенская норма вектора {y}:\\t\\t{np.linalg.norm(y, ord=1)}\\n')\n",
    "print(f'Евклидова норма вектора {y}:\\t\\t{np.linalg.norm(y, ord=2)}\\n')\n",
    "\n",
    "\n",
    "cos_phi = np.dot(x,y) / (np.linalg.norm(x, ord=2) * np.linalg.norm(y, ord=2))\n",
    "print(f'Косинус угла между векторами = {cos_phi}')\n",
    "\n",
    "phi = np.arccos(cos_phi)\n",
    "print(f'Угол между векторами = {phi}')"
   ]
  },
  {
   "cell_type": "markdown",
   "id": "0d998e57",
   "metadata": {},
   "source": [
    "<h4>\n",
    "__3.__ Определите, будет ли линейное пространство евклидовым, если за скалярное произведение принять:<br>\n",
    "а) произведение длин векторов;<br>\n",
    "б) утроенное обычное скалярное произведение векторов?<br>\n",
    "</h4>      \n"
   ]
  },
  {
   "cell_type": "markdown",
   "id": "31477b2c",
   "metadata": {},
   "source": [
    "а) не будет\n",
    "\n",
    "б) будет"
   ]
  },
  {
   "cell_type": "markdown",
   "id": "80b033d3",
   "metadata": {},
   "source": [
    "<h4>\n",
    "__4.__ Выясните, какие из нижеперечисленных векторов образуют ортонормированный базис в линейном пространстве $\\mathbb{R}^{3}$:<br>\n",
    "а) $(1,0,0),(0,0,1);$ <br>\n",
    "б) $(1/\\sqrt{2},-1/\\sqrt{2},0),(1/\\sqrt{2},1/\\sqrt{2},0), (0,0,1);$<br>\n",
    "в) $(1/2, -1/2, 0), (0, 1/2, 1/2), (0,0,1);$<br>\n",
    "г) $(1,0,0),(0,1,0),(0,0,1)?$ \n",
    "</h4>    "
   ]
  },
  {
   "cell_type": "code",
   "execution_count": 73,
   "id": "4a2a6f78",
   "metadata": {},
   "outputs": [],
   "source": [
    "def check_orto_norm(*vectors):\n",
    "    for i in range(len(vectors)):\n",
    "        if not np.dot(vectors[i],vectors[i]) == 1:\n",
    "            return(f'вектор {vectors[i]} не нормирован')\n",
    "        else:\n",
    "            for j in range(len(vectors)):\n",
    "                if not j == i:\n",
    "                    if np.dot(vectors[i], vectors[j]):\n",
    "                        return(f'векторы {vectors[i]} и {vectors[j]} - не ортогональны')\n",
    "            \n",
    "    return(f'векторы {vectors} ортонормированные')"
   ]
  },
  {
   "cell_type": "code",
   "execution_count": 74,
   "id": "ad120e45",
   "metadata": {},
   "outputs": [
    {
     "data": {
      "text/plain": [
       "'векторы (array([1, 0, 0]), array([0, 0, 1])) ортонормированные'"
      ]
     },
     "execution_count": 74,
     "metadata": {},
     "output_type": "execute_result"
    }
   ],
   "source": [
    "x = np.array([1,0,0])\n",
    "y = np.array([0,0,1])\n",
    "\n",
    "check_orto_norm(*[x,y])"
   ]
  },
  {
   "cell_type": "code",
   "execution_count": 76,
   "id": "d841956c",
   "metadata": {},
   "outputs": [
    {
     "data": {
      "text/plain": [
       "'вектор [ 0.70710678 -0.70710678  0.        ] не нормирован'"
      ]
     },
     "execution_count": 76,
     "metadata": {},
     "output_type": "execute_result"
    }
   ],
   "source": [
    "x = np.array([1/np.sqrt(2),-1/np.sqrt(2),0])\n",
    "y = np.array([1/np.sqrt(2),1/np.sqrt(2),0])\n",
    "z = np.array([0,0,1])\n",
    "\n",
    "check_orto_norm(*[x,y,z])"
   ]
  },
  {
   "cell_type": "code",
   "execution_count": 77,
   "id": "d04295f7",
   "metadata": {},
   "outputs": [
    {
     "data": {
      "text/plain": [
       "'вектор [ 0.5 -0.5  0. ] не нормирован'"
      ]
     },
     "execution_count": 77,
     "metadata": {},
     "output_type": "execute_result"
    }
   ],
   "source": [
    "x = np.array([1/2,-1/2,0])\n",
    "y = np.array([0,1/2,1/2])\n",
    "z = np.array([0,0,1])\n",
    "\n",
    "check_orto_norm(*[x,y,z])"
   ]
  },
  {
   "cell_type": "code",
   "execution_count": 78,
   "id": "70032c92",
   "metadata": {},
   "outputs": [
    {
     "data": {
      "text/plain": [
       "'векторы (array([1, 0, 0]), array([0, 1, 0]), array([0, 0, 1])) ортонормированные'"
      ]
     },
     "execution_count": 78,
     "metadata": {},
     "output_type": "execute_result"
    }
   ],
   "source": [
    "x = np.array([1,0,0])\n",
    "y = np.array([0,1,0])\n",
    "z = np.array([0,0,1])\n",
    "\n",
    "check_orto_norm(*[x,y,z])"
   ]
  },
  {
   "cell_type": "code",
   "execution_count": null,
   "id": "ce9ad983",
   "metadata": {},
   "outputs": [],
   "source": []
  }
 ],
 "metadata": {
  "kernelspec": {
   "display_name": "Python 3 (ipykernel)",
   "language": "python",
   "name": "python3"
  },
  "language_info": {
   "codemirror_mode": {
    "name": "ipython",
    "version": 3
   },
   "file_extension": ".py",
   "mimetype": "text/x-python",
   "name": "python",
   "nbconvert_exporter": "python",
   "pygments_lexer": "ipython3",
   "version": "3.9.7"
  }
 },
 "nbformat": 4,
 "nbformat_minor": 5
}
