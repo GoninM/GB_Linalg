{
 "cells": [
  {
   "cell_type": "markdown",
   "id": "29350034",
   "metadata": {},
   "source": [
    "## Практическое задание"
   ]
  },
  {
   "cell_type": "code",
   "execution_count": 4,
   "id": "bc5a6e46",
   "metadata": {},
   "outputs": [],
   "source": [
    "import numpy as np\n",
    "# np.set_printoptions(precision=2, suppress=True)"
   ]
  },
  {
   "cell_type": "markdown",
   "id": "63f4c836",
   "metadata": {},
   "source": [
    "__1.__ Найдите собственные векторы и собственные значения для линейного оператора, заданного матрицей:\n",
    "\n",
    "$$A=\\begin{pmatrix}\n",
    "-1 & -6\\\\ \n",
    "2 & 6\n",
    "\\end{pmatrix}.$$\n",
    "\n",
    "\n",
    "$\\begin{vmatrix}\n",
    "-1-\\lambda & -6\\\\ \n",
    "2 & 6-\\lambda\n",
    "\\end{vmatrix}\n",
    "=\n",
    "(-1-\\lambda)*(6-\\lambda)-(-6)*2\n",
    "=\n",
    "-6 + \\lambda -6*\\lambda +\\lambda^2 +12\n",
    "=\n",
    "\\lambda^2 -5\\lambda+6=0\n",
    "$\n"
   ]
  },
  {
   "cell_type": "code",
   "execution_count": 7,
   "id": "b0ce0f0b",
   "metadata": {},
   "outputs": [
    {
     "name": "stdout",
     "output_type": "stream",
     "text": [
      "3.0\n",
      "2.0\n"
     ]
    }
   ],
   "source": [
    "#собственные значения\n",
    "a = 1\n",
    "b = -5\n",
    "c = 6\n",
    "\n",
    "D = b**2-4*a*c\n",
    "\n",
    "x1= (-b + np.sqrt(D))/(2*a)\n",
    "x2= (-b - np.sqrt(D))/(2*a)\n",
    "print(x1)\n",
    "print(x2)"
   ]
  },
  {
   "cell_type": "markdown",
   "id": "d6ebbda3",
   "metadata": {},
   "source": [
    "Найдём собственные векторы вида $\\begin{pmatrix}\n",
    "x_{1}\\\\ \n",
    "x_{2}\n",
    "\\end{pmatrix}$, подставив полученное собственное значение в выражение $\\textbf{A}x=\\lambda x$:\n",
    "\n",
    "$$\\begin{pmatrix}\n",
    "-1 & -6\\\\ \n",
    "2 & 6\n",
    "\\end{pmatrix}\n",
    "\\begin{pmatrix}\n",
    "x_{1}\\\\ \n",
    "x_{2}\n",
    "\\end{pmatrix}=\n",
    "2\n",
    "\\begin{pmatrix}\n",
    "x_{1}\\\\ \n",
    "x_{2}\n",
    "\\end{pmatrix}.\n",
    "$$\n",
    "\n",
    "$$\\begin{cases}\n",
    "-x_{1}-6x_{2}= 2x_{1}, \\\\\n",
    "2x_{1}+6x_{2}= 2x_{2}\n",
    "\\end{cases}$$ \n",
    "\n",
    "$$\\begin{cases}\n",
    "-3x_{1}-6x_{2}= 0, \\\\\n",
    "2x_{1}+4x_{2}= 0\n",
    "\\end{cases}$$ \n",
    "\n",
    "$$x_{1}=-2x_{2}$$\n",
    "$$\\begin{pmatrix}\n",
    "-2\\\\ \n",
    "1\n",
    "\\end{pmatrix}$$ "
   ]
  },
  {
   "cell_type": "code",
   "execution_count": 12,
   "id": "fa5321be",
   "metadata": {},
   "outputs": [
    {
     "name": "stdout",
     "output_type": "stream",
     "text": [
      "[ True  True]\n"
     ]
    }
   ],
   "source": [
    "# Проверка 1-ого вектора\n",
    "A = np.array([[-1,-6], [2,6]])\n",
    "x = np.array([-2,1])\n",
    "\n",
    "print(A.dot(x) == 2*x)"
   ]
  },
  {
   "cell_type": "markdown",
   "id": "51dd2531",
   "metadata": {},
   "source": [
    "$$\\begin{pmatrix}\n",
    "-1 & -6\\\\ \n",
    "2 & 6\n",
    "\\end{pmatrix}\n",
    "\\begin{pmatrix}\n",
    "x_{1}\\\\ \n",
    "x_{2}\n",
    "\\end{pmatrix}=\n",
    "3\n",
    "\\begin{pmatrix}\n",
    "x_{1}\\\\ \n",
    "x_{2}\n",
    "\\end{pmatrix}.\n",
    "$$\n",
    "\n",
    "$$\\begin{cases}\n",
    "-x_{1}-6x_{2}= 3x_{1}, \\\\\n",
    "2x_{1}+6x_{2}= 3x_{2}\n",
    "\\end{cases}$$ \n",
    "\n",
    "$$\\begin{cases}\n",
    "-4x_{1}-6x_{2}= 0, \\\\\n",
    "2x_{1}+3x_{2}= 0\n",
    "\\end{cases}$$ \n",
    "\n",
    "$$x_{1}=-1.5x_{2}$$\n",
    "$$\\begin{pmatrix}\n",
    "-1.5\\\\ \n",
    "1\n",
    "\\end{pmatrix}$$ "
   ]
  },
  {
   "cell_type": "code",
   "execution_count": 13,
   "id": "a9968cad",
   "metadata": {},
   "outputs": [
    {
     "name": "stdout",
     "output_type": "stream",
     "text": [
      "[ True  True]\n"
     ]
    }
   ],
   "source": [
    "# Проверка 1-ого вектора\n",
    "A = np.array([[-1,-6], [2,6]])\n",
    "x = np.array([-1.5,1])\n",
    "\n",
    "print(A.dot(x) == 3*x)"
   ]
  },
  {
   "cell_type": "code",
   "execution_count": 14,
   "id": "3c8acf46",
   "metadata": {},
   "outputs": [
    {
     "name": "stdout",
     "output_type": "stream",
     "text": [
      "Матрица A:\n",
      "[[-1 -6]\n",
      " [ 2  6]]\n",
      "Собственные значения:\n",
      "[2. 3.]\n",
      "Собственные векторы:\n",
      "[[-0.89  0.83]\n",
      " [ 0.45 -0.55]]\n"
     ]
    }
   ],
   "source": [
    "A = np.array([[-1,-6], [2,6]])\n",
    "w, v = np.linalg.eig(A)\n",
    " \n",
    "print(f'Матрица A:\\n{A}')\n",
    "print(f'Собственные значения:\\n{w}')\n",
    "print(f'Собственные векторы:\\n{v}')"
   ]
  },
  {
   "cell_type": "code",
   "execution_count": 17,
   "id": "1f5b8f00",
   "metadata": {},
   "outputs": [
    {
     "data": {
      "text/plain": [
       "-2.0"
      ]
     },
     "execution_count": 17,
     "metadata": {},
     "output_type": "execute_result"
    }
   ],
   "source": [
    "v[0][0]/v[1][0]"
   ]
  },
  {
   "cell_type": "code",
   "execution_count": 18,
   "id": "d8f054a9",
   "metadata": {},
   "outputs": [
    {
     "data": {
      "text/plain": [
       "-1.5"
      ]
     },
     "execution_count": 18,
     "metadata": {},
     "output_type": "execute_result"
    }
   ],
   "source": [
    "v[0][1]/v[1][1]"
   ]
  },
  {
   "cell_type": "markdown",
   "id": "a5a93780",
   "metadata": {},
   "source": [
    "__2.__ Дан оператор поворота на 180 градусов, задаваемый матрицей:\n",
    "\n",
    "$$A=\\begin{pmatrix}\n",
    "-1 & 0\\\\ \n",
    "0 & -1\n",
    "\\end{pmatrix}.$$\n",
    "\n",
    "Покажите, что __любой__ вектор считается для него собственным.\n",
    "\n",
    "Доказательство:\n",
    "допустим что это не так, и найдется такой вектор x, который не будет собсвенным.\n",
    "то есть не выполняется равенство\n",
    "$Ax = \\lambda x$\n",
    "\n",
    "$x=\\begin{pmatrix}\n",
    "x_{1}\\\\ \n",
    "x_{2}\n",
    "\\end{pmatrix}$\n",
    "\n",
    "$Ax = \n",
    "\\begin{pmatrix}\n",
    "-1 & 0\\\\ \n",
    "0 & -1\n",
    "\\end{pmatrix}\n",
    "\\begin{pmatrix}\n",
    "x_{1}\\\\ \n",
    "x_{2}\n",
    "\\end{pmatrix}\n",
    "=\n",
    "\\begin{pmatrix}\n",
    "-x_{1}\\\\ \n",
    "-x_{2}\n",
    "\\end{pmatrix}\n",
    "=\n",
    "-1\\begin{pmatrix}\n",
    "x_{1}\\\\ \n",
    "x_{2}\n",
    "\\end{pmatrix}\n",
    "$\n",
    "\n",
    "$\\lambda=-1$ для любого вектора $x$"
   ]
  },
  {
   "cell_type": "markdown",
   "id": "4330d7e9",
   "metadata": {},
   "source": [
    "__3.__ Пусть линейный оператор задан матрицей:\n",
    "\n",
    "$$A=\\begin{pmatrix}\n",
    "1 & 1\\\\ \n",
    "-1 & 3\n",
    "\\end{pmatrix}.$$\n",
    "\n",
    "Установите, считается ли вектор $x=(1,1)$ собственным вектором этого линейного оператора.\n",
    "\n",
    "$$Ax=\\begin{pmatrix}\n",
    "1 & 1\\\\ \n",
    "-1 & 3\n",
    "\\end{pmatrix}\n",
    "\\begin{pmatrix}\n",
    "1\\\\ \n",
    "1\n",
    "\\end{pmatrix}\n",
    "=\n",
    "\\begin{pmatrix}\n",
    "1\\cdot1+1\\cdot1\\\\ \n",
    "-1\\cdot1+3\\cdot1\n",
    "\\end{pmatrix}\n",
    "=\n",
    "\\begin{pmatrix}\n",
    "2\\\\ \n",
    "2\n",
    "\\end{pmatrix}=\n",
    "2\\begin{pmatrix}\n",
    "1\\\\ \n",
    "1\n",
    "\\end{pmatrix}\n",
    "=2x$$\n",
    "\n",
    "является"
   ]
  },
  {
   "cell_type": "markdown",
   "id": "27b215ce",
   "metadata": {},
   "source": [
    "**4.** Пусть линейный оператор задан матрицей:\n",
    "\n",
    "$$A=\\begin{pmatrix} 0 & 3 & 0\\\\ 3 & 0 & 0\\\\ 0 & 0 & 3 \\end{pmatrix}.$$\n",
    "\n",
    "Установите, считается ли вектор $x=(3, -3, -4)$ собственным вектором этого линейного оператора.\n",
    "\n",
    "$$Ax=\n",
    "\\begin{pmatrix} 0 & 3 & 0\\\\ 3 & 0 & 0\\\\ 0 & 0 & 3 \\end{pmatrix}\n",
    "\\begin{pmatrix} 3\\\\ -3\\\\ -4\\end{pmatrix}\n",
    "=\n",
    "\\begin{pmatrix} 0*3+3*(-3)+0*(-4)\\\\ 3*3+0*(-3)+0*(-4)\\\\ 0*3+0*(-3)+3*(-4) \\end{pmatrix}\n",
    "=\n",
    "\\begin{pmatrix} -9\\\\ 9\\\\ -12\\end{pmatrix}\n",
    "=\n",
    "-3\\begin{pmatrix} 3\\\\ -3\\\\ 4\\end{pmatrix}\n",
    "$$\n",
    "\n",
    "не является"
   ]
  },
  {
   "cell_type": "code",
   "execution_count": 26,
   "id": "52a35e2b",
   "metadata": {},
   "outputs": [
    {
     "name": "stdout",
     "output_type": "stream",
     "text": [
      "[ True  True False]\n"
     ]
    }
   ],
   "source": [
    "A=np.array([[0,3,0],[3,0,0],[0,0,3]])\n",
    "x=np.array([3,-3,-4])\n",
    "print(x==A.dot(x)/(-3))"
   ]
  },
  {
   "cell_type": "code",
   "execution_count": null,
   "id": "5c319500",
   "metadata": {},
   "outputs": [],
   "source": []
  }
 ],
 "metadata": {
  "kernelspec": {
   "display_name": "Python 3 (ipykernel)",
   "language": "python",
   "name": "python3"
  },
  "language_info": {
   "codemirror_mode": {
    "name": "ipython",
    "version": 3
   },
   "file_extension": ".py",
   "mimetype": "text/x-python",
   "name": "python",
   "nbconvert_exporter": "python",
   "pygments_lexer": "ipython3",
   "version": "3.9.7"
  }
 },
 "nbformat": 4,
 "nbformat_minor": 5
}
