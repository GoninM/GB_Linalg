{
 "cells": [
  {
   "cell_type": "code",
   "execution_count": 1,
   "id": "356dba22",
   "metadata": {},
   "outputs": [],
   "source": [
    "import numpy as np"
   ]
  },
  {
   "cell_type": "markdown",
   "id": "3accb93d",
   "metadata": {},
   "source": [
    "# Матрицы и матричные операции. Часть 1"
   ]
  },
  {
   "cell_type": "markdown",
   "id": "c6624c64",
   "metadata": {},
   "source": [
    "Все задания рекомендуется делать вручную, проверяя полученные результаты через NumPy.\n",
    "\n",
    "__1.__ Установите, какие произведения матриц $AB$ и $BA$ определены, и найдите размерности полученных матриц:\n",
    "\n",
    "   а) $A$ — матрица $4\\times 2$, $B$ — матрица $4\\times 2$;\n",
    "    \n",
    "   б) $A$ — матрица $2\\times 5$, $B$ — матрица $5\\times 3$;\n",
    "    \n",
    "   в) $A$ — матрица $8\\times 3$, $B$ — матрица $3\\times 8$;\n",
    "    \n",
    "   г) $A$ — квадратная матрица $4\\times 4$, $B$ — квадратная матрица $4\\times 4$.\n",
    "    \n"
   ]
  },
  {
   "cell_type": "code",
   "execution_count": 23,
   "id": "8ee2771d",
   "metadata": {},
   "outputs": [],
   "source": [
    "def check_mult(A, B):\n",
    "    n1 = A.shape[0]\n",
    "    m1 = A.shape[1]\n",
    "\n",
    "    n2 = B.shape[0]\n",
    "    m2 = B.shape[1]\n",
    "    \n",
    "    if m1 == n2:\n",
    "        print('Произведение AB определино\\n')\n",
    "        C = A.dot(B)\n",
    "        print(C)\n",
    "        print()\n",
    "        print(f'Размер матрицы после умножения = {C.shape}\\n')\n",
    "    else:\n",
    "        print('Произведение AB неопределино\\n')\n",
    "        \n",
    "\n",
    "        \n",
    "    if m2 == n1:\n",
    "        print('Произведение BA определино\\n')\n",
    "        C = B.dot(A)\n",
    "        print(C)\n",
    "        print()\n",
    "        print(f'Размер матрицы после умножения = {C.shape}\\n')       \n",
    "    else:\n",
    "        print('Произведение BA неопределино')\n",
    "\n",
    "        \n",
    "    "
   ]
  },
  {
   "cell_type": "code",
   "execution_count": 27,
   "id": "6c67bb72",
   "metadata": {},
   "outputs": [
    {
     "name": "stdout",
     "output_type": "stream",
     "text": [
      "Матрица А:\n",
      "[[16 16]\n",
      " [16 16]\n",
      " [16 16]\n",
      " [16 16]]\n",
      "\n",
      "Матрица B:\n",
      "[[2 2]\n",
      " [2 2]\n",
      " [2 2]\n",
      " [2 2]]\n",
      "\n",
      "Произведение AB неопределино\n",
      "\n",
      "Произведение BA неопределино\n"
     ]
    }
   ],
   "source": [
    "A = np.full((4, 2), np.random.randint(1,100))\n",
    "B = np.full((4, 2), np.random.randint(1,100))\n",
    "print('Матрица А:')\n",
    "print(A)\n",
    "print('\\nМатрица B:')\n",
    "print(B)\n",
    "print()\n",
    "\n",
    "check_mult(A, B)"
   ]
  },
  {
   "cell_type": "code",
   "execution_count": 28,
   "id": "c1f88bb1",
   "metadata": {},
   "outputs": [
    {
     "name": "stdout",
     "output_type": "stream",
     "text": [
      "Матрица А:\n",
      "[[4 4 4 4 4]\n",
      " [4 4 4 4 4]]\n",
      "\n",
      "Матрица B:\n",
      "[[6 6 6]\n",
      " [6 6 6]\n",
      " [6 6 6]\n",
      " [6 6 6]\n",
      " [6 6 6]]\n",
      "\n",
      "Произведение AB определино\n",
      "\n",
      "[[120 120 120]\n",
      " [120 120 120]]\n",
      "\n",
      "Размер матрицы после умножения = (2, 3)\n",
      "\n",
      "Произведение BA неопределино\n"
     ]
    }
   ],
   "source": [
    "A = np.full((2, 5), np.random.randint(1,100))\n",
    "B = np.full((5, 3), np.random.randint(1,100))\n",
    "print('Матрица А:')\n",
    "print(A)\n",
    "print('\\nМатрица B:')\n",
    "print(B)\n",
    "print()\n",
    "\n",
    "check_mult(A, B)"
   ]
  },
  {
   "cell_type": "code",
   "execution_count": 29,
   "id": "e6d2af4b",
   "metadata": {},
   "outputs": [
    {
     "name": "stdout",
     "output_type": "stream",
     "text": [
      "Матрица А:\n",
      "[[67 67 67]\n",
      " [67 67 67]\n",
      " [67 67 67]\n",
      " [67 67 67]\n",
      " [67 67 67]\n",
      " [67 67 67]\n",
      " [67 67 67]\n",
      " [67 67 67]]\n",
      "\n",
      "Матрица B:\n",
      "[[14 14 14 14 14 14 14 14]\n",
      " [14 14 14 14 14 14 14 14]\n",
      " [14 14 14 14 14 14 14 14]]\n",
      "\n",
      "Произведение AB определино\n",
      "\n",
      "[[2814 2814 2814 2814 2814 2814 2814 2814]\n",
      " [2814 2814 2814 2814 2814 2814 2814 2814]\n",
      " [2814 2814 2814 2814 2814 2814 2814 2814]\n",
      " [2814 2814 2814 2814 2814 2814 2814 2814]\n",
      " [2814 2814 2814 2814 2814 2814 2814 2814]\n",
      " [2814 2814 2814 2814 2814 2814 2814 2814]\n",
      " [2814 2814 2814 2814 2814 2814 2814 2814]\n",
      " [2814 2814 2814 2814 2814 2814 2814 2814]]\n",
      "\n",
      "Размер матрицы после умножения = (8, 8)\n",
      "\n",
      "Произведение BA определино\n",
      "\n",
      "[[7504 7504 7504]\n",
      " [7504 7504 7504]\n",
      " [7504 7504 7504]]\n",
      "\n",
      "Размер матрицы после умножения = (3, 3)\n",
      "\n"
     ]
    }
   ],
   "source": [
    "A = np.full((8, 3), np.random.randint(1,100))\n",
    "B = np.full((3, 8), np.random.randint(1,100))\n",
    "print('Матрица А:')\n",
    "print(A)\n",
    "print('\\nМатрица B:')\n",
    "print(B)\n",
    "print()\n",
    "\n",
    "check_mult(A, B)"
   ]
  },
  {
   "cell_type": "code",
   "execution_count": 30,
   "id": "0aad8859",
   "metadata": {},
   "outputs": [
    {
     "name": "stdout",
     "output_type": "stream",
     "text": [
      "Матрица А:\n",
      "[[44 44 44 44]\n",
      " [44 44 44 44]\n",
      " [44 44 44 44]\n",
      " [44 44 44 44]]\n",
      "\n",
      "Матрица B:\n",
      "[[50 50 50 50]\n",
      " [50 50 50 50]\n",
      " [50 50 50 50]\n",
      " [50 50 50 50]]\n",
      "\n",
      "Произведение AB определино\n",
      "\n",
      "[[8800 8800 8800 8800]\n",
      " [8800 8800 8800 8800]\n",
      " [8800 8800 8800 8800]\n",
      " [8800 8800 8800 8800]]\n",
      "\n",
      "Размер матрицы после умножения = (4, 4)\n",
      "\n",
      "Произведение BA определино\n",
      "\n",
      "[[8800 8800 8800 8800]\n",
      " [8800 8800 8800 8800]\n",
      " [8800 8800 8800 8800]\n",
      " [8800 8800 8800 8800]]\n",
      "\n",
      "Размер матрицы после умножения = (4, 4)\n",
      "\n"
     ]
    }
   ],
   "source": [
    "A = np.full((4, 4), np.random.randint(1,100))\n",
    "B = np.full((4, 4), np.random.randint(1,100))\n",
    "print('Матрица А:')\n",
    "print(A)\n",
    "print('\\nМатрица B:')\n",
    "print(B)\n",
    "print()\n",
    "\n",
    "check_mult(A, B)"
   ]
  },
  {
   "cell_type": "markdown",
   "id": "63612233",
   "metadata": {},
   "source": [
    "__2.__ Найдите сумму и произведение матриц $A=\\begin{pmatrix}\n",
    "1 & -2\\\\ \n",
    "3 & 0\n",
    "\\end{pmatrix}$ и $B=\\begin{pmatrix}\n",
    "4 & -1\\\\ \n",
    "0 & 5\n",
    "\\end{pmatrix}.$\n",
    "\n"
   ]
  },
  {
   "cell_type": "code",
   "execution_count": 32,
   "id": "5e8af31a",
   "metadata": {},
   "outputs": [
    {
     "name": "stdout",
     "output_type": "stream",
     "text": [
      "Матрица А:\n",
      "[[ 1 -2]\n",
      " [ 3  0]]\n",
      "\n",
      "Матрица B:\n",
      "[[ 4 -1]\n",
      " [ 0  5]]\n",
      "\n",
      "A + B:\n",
      "[[ 5 -3]\n",
      " [ 3  5]]\n",
      "\n",
      "AB:\n",
      "[[  4 -11]\n",
      " [ 12  -3]]\n",
      "\n"
     ]
    }
   ],
   "source": [
    "A = np.array([[1, -2],[3, 0]])\n",
    "B = np.array([[4, -1],[0, 5]])\n",
    "print('Матрица А:')\n",
    "print(A)\n",
    "print()\n",
    "print('Матрица B:')\n",
    "print(B)\n",
    "print()\n",
    "print('A + B:')\n",
    "print(A+B)\n",
    "print()\n",
    "print('AB:')\n",
    "print(A.dot(B))\n",
    "print()\n"
   ]
  },
  {
   "cell_type": "markdown",
   "id": "30297ae4",
   "metadata": {},
   "source": [
    "__3.__ Из закономерностей сложения и умножения матриц на число можно сделать вывод, что матрицы одного размера образуют линейное пространство. Вычислите линейную комбинацию $3A-2B+4C$ для матриц $A=\\begin{pmatrix}\n",
    "1 & 7\\\\ \n",
    "3 & -6\n",
    "\\end{pmatrix}$, $B=\\begin{pmatrix}\n",
    "0 & 5\\\\ \n",
    "2 & -1\n",
    "\\end{pmatrix}$, $C=\\begin{pmatrix}\n",
    "2 & -4\\\\ \n",
    "1 & 1\n",
    "\\end{pmatrix}.$\n",
    "    \n"
   ]
  },
  {
   "cell_type": "code",
   "execution_count": 34,
   "id": "0769608f",
   "metadata": {},
   "outputs": [
    {
     "name": "stdout",
     "output_type": "stream",
     "text": [
      "Матрица А:\n",
      "[[ 1  7]\n",
      " [ 3 -6]]\n",
      "\n",
      "Матрица B:\n",
      "[[ 0  5]\n",
      " [ 2 -1]]\n",
      "\n",
      "Матрица C:\n",
      "[[ 2 -4]\n",
      " [ 1  1]]\n",
      "\n",
      "3A - 2B + 4C:\n",
      "[[ 11  -5]\n",
      " [  9 -12]]\n",
      "\n"
     ]
    }
   ],
   "source": [
    "A = np.array([[1, 7],[3, -6]])\n",
    "B = np.array([[0, 5],[2, -1]])\n",
    "C = np.array([[2, -4],[1, 1]])\n",
    "print('Матрица А:')\n",
    "print(A)\n",
    "print()\n",
    "print('Матрица B:')\n",
    "print(B)\n",
    "print()\n",
    "print('Матрица C:')\n",
    "print(C)\n",
    "print()\n",
    "print('3A - 2B + 4C:')\n",
    "print(3*A - 2*B + 4*C)\n",
    "print()\n"
   ]
  },
  {
   "cell_type": "markdown",
   "id": "f1cf4166",
   "metadata": {},
   "source": [
    "__4.__ Дана матрица $A=\\begin{pmatrix}\n",
    "4 & 1\\\\ \n",
    "5 & -2\\\\ \n",
    "2 & 3\n",
    "\\end{pmatrix}$.\n",
    "Вычислите $AA^{T}$ и $A^{T}A$.\n",
    "\n"
   ]
  },
  {
   "cell_type": "code",
   "execution_count": 38,
   "id": "940262bb",
   "metadata": {},
   "outputs": [
    {
     "name": "stdout",
     "output_type": "stream",
     "text": [
      "Матрица А:\n",
      "[[ 4  1]\n",
      " [ 5 -2]\n",
      " [ 2  3]]\n",
      "\n",
      "Матрица Аt:\n",
      "[[ 4  5  2]\n",
      " [ 1 -2  3]]\n",
      "\n",
      "Матрица AАt:\n",
      "[[17 18 11]\n",
      " [18 29  4]\n",
      " [11  4 13]]\n",
      "\n",
      "Матрица АtA:\n",
      "[[45  0]\n",
      " [ 0 14]]\n",
      "\n"
     ]
    }
   ],
   "source": [
    "A = np.array([[4, 1],[5, -2],[2,3]])\n",
    "print('Матрица А:')\n",
    "print(A)\n",
    "print()\n",
    "\n",
    "print('Матрица Аt:')\n",
    "print(A.T)\n",
    "print()\n",
    "\n",
    "print('Матрица AАt:')\n",
    "print(A.dot(A.T))\n",
    "print()\n",
    "\n",
    "print('Матрица АtA:')\n",
    "print(A.T.dot(A))\n",
    "print()"
   ]
  },
  {
   "cell_type": "markdown",
   "id": "0c018efa",
   "metadata": {},
   "source": [
    "__5*.__ Напишите на Python функцию для перемножения двух произвольных матриц, не используя NumPy."
   ]
  },
  {
   "cell_type": "code",
   "execution_count": 90,
   "id": "f8f49eb2",
   "metadata": {},
   "outputs": [],
   "source": [
    "def get_matrix_size(A):\n",
    "    n = len(A)\n",
    "    if n > 0:\n",
    "        m = len(A[0])\n",
    "    else:\n",
    "        m = 0\n",
    "    return n, m"
   ]
  },
  {
   "cell_type": "code",
   "execution_count": 132,
   "id": "e9ce39aa",
   "metadata": {},
   "outputs": [],
   "source": [
    "def mult(A, B):\n",
    "    n1 = get_matrix_size(A)[0]\n",
    "    m1 = get_matrix_size(A)[1]\n",
    "    print(f'n1={n1}, m1={m1}')\n",
    "    \n",
    "    n2 = get_matrix_size(B)[0]\n",
    "    m2 = get_matrix_size(B)[1]    \n",
    "    print(f'n2={n2}, m2={m2}')\n",
    "    \n",
    "    if m1 == n2:\n",
    "        print('Произведение AB определино\\n')\n",
    "        C = [[0 for j in range(m2)] for i in range(n1)]\n",
    "        for i in range(n1):\n",
    "            for j in range(m2):\n",
    "                for p in range(m1):\n",
    "                    C[i][j] += A[i][p]*B[p][j] \n",
    "        \n",
    "        return C\n",
    "    else:\n",
    "        print('Произведение AB неопределино\\n')    "
   ]
  },
  {
   "cell_type": "code",
   "execution_count": 133,
   "id": "aea258df",
   "metadata": {},
   "outputs": [
    {
     "data": {
      "text/plain": [
       "[[1, 2, 3], [1, 2, 3], [1, 2, 3]]"
      ]
     },
     "execution_count": 133,
     "metadata": {},
     "output_type": "execute_result"
    }
   ],
   "source": [
    "A = [[1,2,3], [1,2,3], [1,2,3]]\n",
    "A"
   ]
  },
  {
   "cell_type": "code",
   "execution_count": 134,
   "id": "c72f6039",
   "metadata": {},
   "outputs": [
    {
     "data": {
      "text/plain": [
       "[[1, 2, 3], [1, 2, 3], [1, 2, 3]]"
      ]
     },
     "execution_count": 134,
     "metadata": {},
     "output_type": "execute_result"
    }
   ],
   "source": [
    "B = [[1,2,3], [1,2,3], [1,2,3]]\n",
    "B"
   ]
  },
  {
   "cell_type": "code",
   "execution_count": 135,
   "id": "22d516d2",
   "metadata": {},
   "outputs": [
    {
     "data": {
      "text/plain": [
       "(3, 3)"
      ]
     },
     "execution_count": 135,
     "metadata": {},
     "output_type": "execute_result"
    }
   ],
   "source": [
    "get_matrix_size(A)"
   ]
  },
  {
   "cell_type": "code",
   "execution_count": 136,
   "id": "958b47c3",
   "metadata": {},
   "outputs": [
    {
     "data": {
      "text/plain": [
       "(3, 3)"
      ]
     },
     "execution_count": 136,
     "metadata": {},
     "output_type": "execute_result"
    }
   ],
   "source": [
    "get_matrix_size(B)"
   ]
  },
  {
   "cell_type": "code",
   "execution_count": 137,
   "id": "7b6496af",
   "metadata": {},
   "outputs": [
    {
     "name": "stdout",
     "output_type": "stream",
     "text": [
      "n1=3, m1=3\n",
      "n2=3, m2=3\n",
      "Произведение AB определино\n",
      "\n",
      "[[6, 12, 18], [6, 12, 18], [6, 12, 18]]\n"
     ]
    }
   ],
   "source": [
    "print(mult(A, B))"
   ]
  },
  {
   "cell_type": "code",
   "execution_count": 138,
   "id": "f9b72178",
   "metadata": {},
   "outputs": [],
   "source": [
    "A = np.full((4, 2), np.random.randint(1,100))\n",
    "B = np.full((4, 2), np.random.randint(1,100))"
   ]
  },
  {
   "cell_type": "code",
   "execution_count": 139,
   "id": "420f085c",
   "metadata": {},
   "outputs": [
    {
     "name": "stdout",
     "output_type": "stream",
     "text": [
      "n1=4, m1=2\n",
      "n2=4, m2=2\n",
      "Произведение AB неопределино\n",
      "\n",
      "None\n"
     ]
    }
   ],
   "source": [
    "print(mult(A, B))"
   ]
  },
  {
   "cell_type": "code",
   "execution_count": 140,
   "id": "afc8a495",
   "metadata": {},
   "outputs": [],
   "source": [
    "A = np.full((2, 5), np.random.randint(1,100))\n",
    "B = np.full((5, 3), np.random.randint(1,100))"
   ]
  },
  {
   "cell_type": "code",
   "execution_count": 141,
   "id": "75b69f38",
   "metadata": {},
   "outputs": [
    {
     "name": "stdout",
     "output_type": "stream",
     "text": [
      "n1=2, m1=5\n",
      "n2=5, m2=3\n",
      "Произведение AB определино\n",
      "\n",
      "[[7200, 7200, 7200], [7200, 7200, 7200]]\n"
     ]
    }
   ],
   "source": [
    "print(mult(A, B))"
   ]
  },
  {
   "cell_type": "code",
   "execution_count": 142,
   "id": "49a2bbd3",
   "metadata": {},
   "outputs": [
    {
     "name": "stdout",
     "output_type": "stream",
     "text": [
      "Произведение AB определино\n",
      "\n",
      "[[7200 7200 7200]\n",
      " [7200 7200 7200]]\n",
      "\n",
      "Размер матрицы после умножения = (2, 3)\n",
      "\n",
      "Произведение BA неопределино\n"
     ]
    }
   ],
   "source": [
    "check_mult(A, B)"
   ]
  },
  {
   "cell_type": "code",
   "execution_count": 143,
   "id": "aa2d51a1",
   "metadata": {},
   "outputs": [],
   "source": [
    "A = np.full((8, 3), np.random.randint(1,100))\n",
    "B = np.full((3, 8), np.random.randint(1,100))"
   ]
  },
  {
   "cell_type": "code",
   "execution_count": 144,
   "id": "c436c9b8",
   "metadata": {},
   "outputs": [
    {
     "name": "stdout",
     "output_type": "stream",
     "text": [
      "n1=8, m1=3\n",
      "n2=3, m2=8\n",
      "Произведение AB определино\n",
      "\n",
      "[[17010, 17010, 17010, 17010, 17010, 17010, 17010, 17010], [17010, 17010, 17010, 17010, 17010, 17010, 17010, 17010], [17010, 17010, 17010, 17010, 17010, 17010, 17010, 17010], [17010, 17010, 17010, 17010, 17010, 17010, 17010, 17010], [17010, 17010, 17010, 17010, 17010, 17010, 17010, 17010], [17010, 17010, 17010, 17010, 17010, 17010, 17010, 17010], [17010, 17010, 17010, 17010, 17010, 17010, 17010, 17010], [17010, 17010, 17010, 17010, 17010, 17010, 17010, 17010]]\n"
     ]
    }
   ],
   "source": [
    "print(mult(A, B))"
   ]
  },
  {
   "cell_type": "code",
   "execution_count": 145,
   "id": "096661a5",
   "metadata": {},
   "outputs": [
    {
     "name": "stdout",
     "output_type": "stream",
     "text": [
      "Произведение AB определино\n",
      "\n",
      "[[17010 17010 17010 17010 17010 17010 17010 17010]\n",
      " [17010 17010 17010 17010 17010 17010 17010 17010]\n",
      " [17010 17010 17010 17010 17010 17010 17010 17010]\n",
      " [17010 17010 17010 17010 17010 17010 17010 17010]\n",
      " [17010 17010 17010 17010 17010 17010 17010 17010]\n",
      " [17010 17010 17010 17010 17010 17010 17010 17010]\n",
      " [17010 17010 17010 17010 17010 17010 17010 17010]\n",
      " [17010 17010 17010 17010 17010 17010 17010 17010]]\n",
      "\n",
      "Размер матрицы после умножения = (8, 8)\n",
      "\n",
      "Произведение BA определино\n",
      "\n",
      "[[45360 45360 45360]\n",
      " [45360 45360 45360]\n",
      " [45360 45360 45360]]\n",
      "\n",
      "Размер матрицы после умножения = (3, 3)\n",
      "\n"
     ]
    }
   ],
   "source": [
    "check_mult(A, B)"
   ]
  },
  {
   "cell_type": "markdown",
   "id": "567198cb",
   "metadata": {},
   "source": [
    "# Матрицы и матричные операции. Часть 2"
   ]
  },
  {
   "cell_type": "markdown",
   "id": "7f0fe169",
   "metadata": {},
   "source": [
    "Все задания рекомендуется выполнять вручную, проверяя полученные результаты с использованием NumPy.\n",
    "\n",
    "__1.__ Вычислите определитель:\n",
    "\n",
    "   a)\n",
    "\n",
    "$$\\begin{vmatrix}\n",
    "sinx & -cosx\\\\ \n",
    "cosx & sinx\n",
    "\\end{vmatrix} = sinx*sinx - (cosx)*(-cosx) = sin^2x + cos^2x = 1;$$\n",
    "\n",
    "   б)\n",
    "    \n",
    "$$\\begin{vmatrix}\n",
    "4 & 2 & 3\\\\ \n",
    "0 & 5 & 1\\\\ \n",
    "0 & 0 & 9\n",
    "\\end{vmatrix} \n",
    "= \n",
    "4*\\begin{vmatrix}5 & 1\\\\ 0 & 9\\end{vmatrix}\n",
    "- \n",
    "0 * \\begin{vmatrix}2 & 3\\\\ 0 & 9\\end{vmatrix}\n",
    "+\n",
    "0 * \\begin{vmatrix}2 & 3\\\\ 5 & 1\\end{vmatrix}\n",
    "=\n",
    "4*(5*9 - 1*0)\n",
    "= 180\n",
    ";$$\n",
    "   в)\n",
    "\n",
    "$$\\begin{vmatrix}\n",
    "1 & 2 & 3\\\\ \n",
    "4 & 5 & 6\\\\ \n",
    "7 & 8 & 9\n",
    "\\end{vmatrix}\n",
    "= \n",
    "1*\\begin{vmatrix}5 & 6\\\\ 8 & 9\\end{vmatrix}\n",
    "-\n",
    "4*\\begin{vmatrix}2 & 3\\\\ 8 & 9\\end{vmatrix}\n",
    "+\n",
    "7*\\begin{vmatrix}2 & 3\\\\ 5 & 6\\end{vmatrix}\n",
    "=\n",
    "1*(5*9-6*8)\n",
    "-\n",
    "4*(2*9 - 3*8)\n",
    "+\n",
    "7*(2*6-5*3)\n",
    "=-3 -(-24)+(-21) = 0.$$\n",
    "\n"
   ]
  },
  {
   "cell_type": "code",
   "execution_count": 170,
   "id": "d5510065",
   "metadata": {},
   "outputs": [
    {
     "data": {
      "text/plain": [
       "0.9999999999999999"
      ]
     },
     "execution_count": 170,
     "metadata": {},
     "output_type": "execute_result"
    }
   ],
   "source": [
    "x = np.random.randint(0,100)\n",
    "A = np.array([[np.sin(x), -np.cos(x)], [np.cos(x), np.sin(x)]])\n",
    "np.linalg.det(A)"
   ]
  },
  {
   "cell_type": "code",
   "execution_count": 171,
   "id": "3f193ae1",
   "metadata": {},
   "outputs": [
    {
     "data": {
      "text/plain": [
       "180.0"
      ]
     },
     "execution_count": 171,
     "metadata": {},
     "output_type": "execute_result"
    }
   ],
   "source": [
    "A = np.array([[4,2,3], [0,5,1], [0,0,9]])\n",
    "np.linalg.det(A)"
   ]
  },
  {
   "cell_type": "code",
   "execution_count": 172,
   "id": "24b4bd09",
   "metadata": {},
   "outputs": [
    {
     "data": {
      "text/plain": [
       "-9.51619735392994e-16"
      ]
     },
     "execution_count": 172,
     "metadata": {},
     "output_type": "execute_result"
    }
   ],
   "source": [
    "A = np.array([[1,2,3], [4,5,6], [7,8,9]])\n",
    "np.linalg.det(A)"
   ]
  },
  {
   "cell_type": "markdown",
   "id": "c86be973",
   "metadata": {},
   "source": [
    "\n",
    "__2.__ Определитель матрицы $A$ равен $4$. Найдите:\n",
    "\n",
    "   а) $det(A^{2}) = det(A)*det(A) = 4*4 = 16$;\n",
    "   \n",
    "   \n",
    "    \n",
    "   б) $det(A^{T}) = det(A) =4$;\n",
    "    \n",
    "   \n",
    "   \n",
    "   в) $det(2A) = 2*det(A) = 2*2*4 = 16$.\n"
   ]
  },
  {
   "cell_type": "code",
   "execution_count": 182,
   "id": "76a202c7",
   "metadata": {},
   "outputs": [
    {
     "data": {
      "text/plain": [
       "4.0"
      ]
     },
     "execution_count": 182,
     "metadata": {},
     "output_type": "execute_result"
    }
   ],
   "source": [
    "A = np.array([[1, 2], [-1, 2]])\n",
    "np.linalg.det(A)"
   ]
  },
  {
   "cell_type": "code",
   "execution_count": 183,
   "id": "5dade3a5",
   "metadata": {},
   "outputs": [
    {
     "data": {
      "text/plain": [
       "16.000000000000007"
      ]
     },
     "execution_count": 183,
     "metadata": {},
     "output_type": "execute_result"
    }
   ],
   "source": [
    "np.linalg.det(A.dot(A))"
   ]
  },
  {
   "cell_type": "code",
   "execution_count": 184,
   "id": "2c9574fc",
   "metadata": {},
   "outputs": [
    {
     "data": {
      "text/plain": [
       "4.0"
      ]
     },
     "execution_count": 184,
     "metadata": {},
     "output_type": "execute_result"
    }
   ],
   "source": [
    "np.linalg.det(A.T)"
   ]
  },
  {
   "cell_type": "code",
   "execution_count": 185,
   "id": "34194bf2",
   "metadata": {},
   "outputs": [
    {
     "data": {
      "text/plain": [
       "15.999999999999998"
      ]
     },
     "execution_count": 185,
     "metadata": {},
     "output_type": "execute_result"
    }
   ],
   "source": [
    "np.linalg.det(2*A)"
   ]
  },
  {
   "cell_type": "markdown",
   "id": "93b81879",
   "metadata": {},
   "source": [
    "   \n",
    "__3.__  Докажите, что матрица:\n",
    "\n",
    "$$\\begin{pmatrix}\n",
    "-2 & 7 & -3\\\\ \n",
    "4 & -14 & 6\\\\ \n",
    "-3 & 7 & 13\n",
    "\\end{pmatrix}$$\n",
    "\n",
    "вырожденная.\n",
    "\n",
    "$$\n",
    "\\begin{vmatrix}\n",
    "-2 & 7 & -3\\\\ \n",
    "4 & -14 & 6\\\\ \n",
    "-3 & 7 & 13\n",
    "\\end{vmatrix}\n",
    "=\n",
    "-2*(-14*13 - 6*7) -4*(7*13 - (-3)*7) + (-3)*(7*6 - (-3)*(-14) = 0\n",
    "$$\n",
    "\n",
    "Определитель равен 0 => матрица вырождена\n"
   ]
  },
  {
   "cell_type": "code",
   "execution_count": 188,
   "id": "7bb06b28",
   "metadata": {},
   "outputs": [
    {
     "data": {
      "text/plain": [
       "0.0"
      ]
     },
     "execution_count": 188,
     "metadata": {},
     "output_type": "execute_result"
    }
   ],
   "source": [
    "A = np.array([[-2, 7, -3], [4, -14, 6], [-3, 7, 13]])\n",
    "np.linalg.det(A)"
   ]
  },
  {
   "cell_type": "markdown",
   "id": "c2cbb4a6",
   "metadata": {},
   "source": [
    "\n",
    "__4.__ Найдите ранг матрицы:\n",
    "\n",
    "   а) $\\begin{pmatrix}\n",
    "1 & 2 & 3\\\\ \n",
    "1 & 1 & 1\\\\ \n",
    "2 & 3 & 4\n",
    "\\end{pmatrix};$\n",
    "\n",
    "$\n",
    "r1 = 1\n",
    "r2 = 1* 1- 2* 1 = -1\n",
    "r3 = 1*(1*4-1*3) - 1*(2*4-3*3) + 2*(2*1-3*1) = 0\n",
    "$\n",
    "ранг матрицы = 2\n",
    "\n",
    "   б) $\\begin{pmatrix}\n",
    "0 & 0 & 2 & 1\\\\ \n",
    "0 & 0 & 2 & 2\\\\ \n",
    "0 & 0 & 4 & 3\\\\ \n",
    "2 & 3 & 5 & 6\n",
    "\\end{pmatrix}.$\n",
    "\n",
    "3 строка сумма первых двух, выкидываю: \n",
    "$\n",
    "\\begin{pmatrix}\n",
    "0 & 0 & 2 & 1\\\\ \n",
    "0 & 0 & 2 & 2\\\\ \n",
    "2 & 3 & 5 & 6\n",
    "\\end{pmatrix}\n",
    "$\n",
    "\n",
    "вторую строку разделю на 2: \n",
    "$\n",
    "\\begin{pmatrix}\n",
    "0 & 0 & 2 & 1\\\\ \n",
    "0 & 0 & 1 & 1\\\\ \n",
    "2 & 3 & 5 & 6\n",
    "\\end{pmatrix}\n",
    "$\n",
    "\n",
    "из первой строки вычту вторую умноженную на 2: \n",
    "$\n",
    "\\begin{pmatrix}\n",
    "0 & 0 & 0 & -1\\\\ \n",
    "0 & 0 & 1 & 1\\\\ \n",
    "2 & 3 & 5 & 6\n",
    "\\end{pmatrix}\n",
    "$\n",
    "\n",
    "первую строку умножить на -1\n",
    "$\n",
    "\\begin{pmatrix}\n",
    "0 & 0 & 0 & 1\\\\ \n",
    "0 & 0 & 1 & 1\\\\ \n",
    "2 & 3 & 5 & 6\n",
    "\\end{pmatrix}\n",
    "$\n",
    "\n",
    "переставлю местами первый и последний столбец:\n",
    "$\n",
    "\\begin{pmatrix}\n",
    "1 & 0 & 0 & 0\\\\ \n",
    "1 & 0 & 1 & 0\\\\ \n",
    "6 & 3 & 5 & 2\n",
    "\\end{pmatrix}\n",
    "$\n",
    "\n",
    "переставлю местами второй и третий столбец:\n",
    "$\n",
    "\\begin{pmatrix}\n",
    "1 & 0 & 0 & 0\\\\ \n",
    "1 & 1 & 0 & 0\\\\ \n",
    "6 & 5 & 3 & 2\n",
    "\\end{pmatrix}\n",
    "$\n",
    "\n",
    "последний столбец можно выкинуть, т.к. его можно получить из третьего умножением на 2/3:\n",
    "$\n",
    "\\begin{pmatrix}\n",
    "1 & 0 & 0\\\\ \n",
    "1 & 1 & 0\\\\ \n",
    "6 & 5 & 3\n",
    "\\end{pmatrix}\n",
    "$\n",
    "\n",
    "определитель матрицы треугольно вида равен произведению элементов на его диагонали: 3"
   ]
  },
  {
   "cell_type": "code",
   "execution_count": 193,
   "id": "3fa68675",
   "metadata": {},
   "outputs": [
    {
     "data": {
      "text/plain": [
       "2"
      ]
     },
     "execution_count": 193,
     "metadata": {},
     "output_type": "execute_result"
    }
   ],
   "source": [
    "A = np.array([[1,2,3],[1,1,1],[2,3,4]])\n",
    "np.linalg.matrix_rank(A)"
   ]
  },
  {
   "cell_type": "code",
   "execution_count": 194,
   "id": "a8cca1b2",
   "metadata": {},
   "outputs": [
    {
     "data": {
      "text/plain": [
       "3"
      ]
     },
     "execution_count": 194,
     "metadata": {},
     "output_type": "execute_result"
    }
   ],
   "source": [
    "A = np.array([[0,0,2,1],[0,0,2,2],[0,0,4,3],[2,3,5,6]])\n",
    "np.linalg.matrix_rank(A)"
   ]
  },
  {
   "cell_type": "code",
   "execution_count": null,
   "id": "ef86bf7a",
   "metadata": {},
   "outputs": [],
   "source": []
  }
 ],
 "metadata": {
  "kernelspec": {
   "display_name": "Python 3 (ipykernel)",
   "language": "python",
   "name": "python3"
  },
  "language_info": {
   "codemirror_mode": {
    "name": "ipython",
    "version": 3
   },
   "file_extension": ".py",
   "mimetype": "text/x-python",
   "name": "python",
   "nbconvert_exporter": "python",
   "pygments_lexer": "ipython3",
   "version": "3.9.7"
  }
 },
 "nbformat": 4,
 "nbformat_minor": 5
}
