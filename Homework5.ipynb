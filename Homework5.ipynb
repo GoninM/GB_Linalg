{
 "cells": [
  {
   "cell_type": "markdown",
   "id": "448cf536",
   "metadata": {},
   "source": [
    "1. Найдите посредством NumPy SVD для матрицы:\n",
    "\n",
    "$$\\begin{pmatrix}\n",
    "1 & 2 & 0\\\\ \n",
    "0 & 0 & 5\\\\ \n",
    "3 & -4 & 2\\\\ \n",
    "1 & 6 & 5\\\\ \n",
    "0 & 1 & 0\n",
    "\\end{pmatrix}.$$\n",
    "\n"
   ]
  },
  {
   "cell_type": "code",
   "execution_count": 1,
   "id": "80f2daca",
   "metadata": {},
   "outputs": [],
   "source": [
    "import numpy as np"
   ]
  },
  {
   "cell_type": "code",
   "execution_count": 2,
   "id": "247b2cf0",
   "metadata": {},
   "outputs": [
    {
     "data": {
      "text/plain": [
       "array([[ 1,  2,  0],\n",
       "       [ 0,  0,  5],\n",
       "       [ 3, -4,  2],\n",
       "       [ 1,  6,  5],\n",
       "       [ 0,  1,  0]])"
      ]
     },
     "execution_count": 2,
     "metadata": {},
     "output_type": "execute_result"
    }
   ],
   "source": [
    "A = np.array([[1,2,0],[0,0,5],[3,-4,2],[1,6,5],[0,1,0]])\n",
    "A"
   ]
  },
  {
   "cell_type": "code",
   "execution_count": 3,
   "id": "0265443d",
   "metadata": {},
   "outputs": [],
   "source": [
    "U, S, Vh = np.linalg.svd(A)"
   ]
  },
  {
   "cell_type": "code",
   "execution_count": 4,
   "id": "c9d3fe87",
   "metadata": {},
   "outputs": [
    {
     "data": {
      "text/plain": [
       "array([[ 0.17056501,  0.15680918, -0.53077508, -0.79905375, -0.16158397],\n",
       "       [ 0.39287016, -0.52933945,  0.6134793 , -0.43375771,  0.03082495],\n",
       "       [-0.14366152, -0.82449256, -0.52379105,  0.14049848,  0.07400343],\n",
       "       [ 0.88843702,  0.06074346, -0.24655277,  0.37755832, -0.06042632],\n",
       "       [ 0.08125046,  0.10831843, -0.08231425, -0.10524851,  0.98173958]])"
      ]
     },
     "execution_count": 4,
     "metadata": {},
     "output_type": "execute_result"
    }
   ],
   "source": [
    "U"
   ]
  },
  {
   "cell_type": "code",
   "execution_count": 5,
   "id": "a8e99a4e",
   "metadata": {},
   "outputs": [
    {
     "data": {
      "text/plain": [
       "array([8.82486885, 6.14060608, 2.53271528])"
      ]
     },
     "execution_count": 5,
     "metadata": {},
     "output_type": "execute_result"
    }
   ],
   "source": [
    "S"
   ]
  },
  {
   "cell_type": "code",
   "execution_count": 6,
   "id": "3598e589",
   "metadata": {},
   "outputs": [
    {
     "data": {
      "text/plain": [
       "array([[ 0.07116451,  0.71702467,  0.69340553],\n",
       "       [-0.36737824,  0.66514082, -0.65009301],\n",
       "       [-0.92734505, -0.20847855,  0.31075368]])"
      ]
     },
     "execution_count": 6,
     "metadata": {},
     "output_type": "execute_result"
    }
   ],
   "source": [
    "Vh"
   ]
  },
  {
   "cell_type": "markdown",
   "id": "405311fe",
   "metadata": {},
   "source": [
    "<h4>2. Для матрицы из предыдущего задания найдите:\n",
    "    а) евклидову норму;\n",
    "    б) норму Фробениуса.</h4>"
   ]
  },
  {
   "cell_type": "code",
   "execution_count": 8,
   "id": "afc98f5d",
   "metadata": {},
   "outputs": [
    {
     "data": {
      "text/plain": [
       "11.045361017187261"
      ]
     },
     "execution_count": 8,
     "metadata": {},
     "output_type": "execute_result"
    }
   ],
   "source": [
    "fro_norm = np.linalg.norm(A, 'fro')\n",
    "fro_norm"
   ]
  },
  {
   "cell_type": "code",
   "execution_count": 11,
   "id": "ae1f7cbd",
   "metadata": {},
   "outputs": [
    {
     "data": {
      "text/plain": [
       "6.140606077636322"
      ]
     },
     "execution_count": 11,
     "metadata": {},
     "output_type": "execute_result"
    }
   ],
   "source": [
    "evc_norm = S[1]\n",
    "evc_norm"
   ]
  },
  {
   "cell_type": "code",
   "execution_count": null,
   "id": "2156af9b",
   "metadata": {},
   "outputs": [],
   "source": []
  }
 ],
 "metadata": {
  "kernelspec": {
   "display_name": "Python 3 (ipykernel)",
   "language": "python",
   "name": "python3"
  },
  "language_info": {
   "codemirror_mode": {
    "name": "ipython",
    "version": 3
   },
   "file_extension": ".py",
   "mimetype": "text/x-python",
   "name": "python",
   "nbconvert_exporter": "python",
   "pygments_lexer": "ipython3",
   "version": "3.9.7"
  }
 },
 "nbformat": 4,
 "nbformat_minor": 5
}
